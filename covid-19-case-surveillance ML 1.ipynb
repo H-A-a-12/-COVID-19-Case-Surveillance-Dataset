{
 "cells": [
  {
   "cell_type": "code",
   "execution_count": 1,
   "metadata": {
    "execution": {
     "iopub.execute_input": "2021-01-22T11:03:39.040049Z",
     "iopub.status.busy": "2021-01-22T11:03:39.039275Z",
     "iopub.status.idle": "2021-01-22T11:03:40.561446Z",
     "shell.execute_reply": "2021-01-22T11:03:40.560523Z"
    },
    "papermill": {
     "duration": 1.559358,
     "end_time": "2021-01-22T11:03:40.561590",
     "exception": false,
     "start_time": "2021-01-22T11:03:39.002232",
     "status": "completed"
    },
    "tags": []
   },
   "outputs": [],
   "source": [
    "import numpy as np\n",
    "import pandas as pd \n",
    "import matplotlib.pyplot as plt \n",
    "from sklearn.linear_model import LogisticRegression\n",
    "from sklearn.svm import SVC, LinearSVC\n",
    "from sklearn.ensemble import RandomForestClassifier\n",
    "from sklearn.neighbors import KNeighborsClassifier\n",
    "from sklearn.naive_bayes import GaussianNB\n",
    "from sklearn.linear_model import Perceptron\n",
    "from sklearn.linear_model import SGDClassifier\n",
    "from sklearn.tree import DecisionTreeClassifier\n",
    "import seaborn as sns\n",
    "from sklearn.metrics import accuracy_score"
   ]
  },
  {
   "cell_type": "code",
   "execution_count": 2,
   "metadata": {
    "execution": {
     "iopub.execute_input": "2021-01-22T11:03:40.631471Z",
     "iopub.status.busy": "2021-01-22T11:03:40.630604Z",
     "iopub.status.idle": "2021-01-22T11:04:06.003285Z",
     "shell.execute_reply": "2021-01-22T11:04:06.002651Z"
    },
    "papermill": {
     "duration": 25.409548,
     "end_time": "2021-01-22T11:04:06.003446",
     "exception": false,
     "start_time": "2021-01-22T11:03:40.593898",
     "status": "completed"
    },
    "tags": []
   },
   "outputs": [
    {
     "name": "stderr",
     "output_type": "stream",
     "text": [
      "/opt/conda/lib/python3.7/site-packages/IPython/core/interactiveshell.py:3063: DtypeWarning: Columns (1) have mixed types.Specify dtype option on import or set low_memory=False.\n",
      "  interactivity=interactivity, compiler=compiler, result=result)\n"
     ]
    }
   ],
   "source": [
    "df=pd.read_csv(\"../input/covid19-case-surveillance-public-use-dataset/COVID-19_Case_Surveillance_Public_Use_Data.csv\")"
   ]
  },
  {
   "cell_type": "code",
   "execution_count": 3,
   "metadata": {
    "execution": {
     "iopub.execute_input": "2021-01-22T11:04:06.066918Z",
     "iopub.status.busy": "2021-01-22T11:04:06.066206Z",
     "iopub.status.idle": "2021-01-22T11:04:06.092125Z",
     "shell.execute_reply": "2021-01-22T11:04:06.091549Z"
    },
    "papermill": {
     "duration": 0.062086,
     "end_time": "2021-01-22T11:04:06.092251",
     "exception": false,
     "start_time": "2021-01-22T11:04:06.030165",
     "status": "completed"
    },
    "tags": []
   },
   "outputs": [
    {
     "data": {
      "text/html": [
       "<div>\n",
       "<style scoped>\n",
       "    .dataframe tbody tr th:only-of-type {\n",
       "        vertical-align: middle;\n",
       "    }\n",
       "\n",
       "    .dataframe tbody tr th {\n",
       "        vertical-align: top;\n",
       "    }\n",
       "\n",
       "    .dataframe thead th {\n",
       "        text-align: right;\n",
       "    }\n",
       "</style>\n",
       "<table border=\"1\" class=\"dataframe\">\n",
       "  <thead>\n",
       "    <tr style=\"text-align: right;\">\n",
       "      <th></th>\n",
       "      <th>cdc_report_dt</th>\n",
       "      <th>pos_spec_dt</th>\n",
       "      <th>onset_dt</th>\n",
       "      <th>current_status</th>\n",
       "      <th>sex</th>\n",
       "      <th>age_group</th>\n",
       "      <th>Race and ethnicity (combined)</th>\n",
       "      <th>hosp_yn</th>\n",
       "      <th>icu_yn</th>\n",
       "      <th>death_yn</th>\n",
       "      <th>medcond_yn</th>\n",
       "    </tr>\n",
       "  </thead>\n",
       "  <tbody>\n",
       "    <tr>\n",
       "      <th>0</th>\n",
       "      <td>2020/11/10</td>\n",
       "      <td>2020/11/10</td>\n",
       "      <td>NaN</td>\n",
       "      <td>Laboratory-confirmed case</td>\n",
       "      <td>Male</td>\n",
       "      <td>10 - 19 Years</td>\n",
       "      <td>Black, Non-Hispanic</td>\n",
       "      <td>No</td>\n",
       "      <td>Unknown</td>\n",
       "      <td>No</td>\n",
       "      <td>No</td>\n",
       "    </tr>\n",
       "    <tr>\n",
       "      <th>1</th>\n",
       "      <td>2020/11/14</td>\n",
       "      <td>2020/11/10</td>\n",
       "      <td>2020/11/10</td>\n",
       "      <td>Laboratory-confirmed case</td>\n",
       "      <td>Male</td>\n",
       "      <td>10 - 19 Years</td>\n",
       "      <td>Black, Non-Hispanic</td>\n",
       "      <td>No</td>\n",
       "      <td>No</td>\n",
       "      <td>No</td>\n",
       "      <td>No</td>\n",
       "    </tr>\n",
       "    <tr>\n",
       "      <th>2</th>\n",
       "      <td>2020/11/19</td>\n",
       "      <td>2020/11/10</td>\n",
       "      <td>2020/11/09</td>\n",
       "      <td>Laboratory-confirmed case</td>\n",
       "      <td>Male</td>\n",
       "      <td>10 - 19 Years</td>\n",
       "      <td>Black, Non-Hispanic</td>\n",
       "      <td>No</td>\n",
       "      <td>No</td>\n",
       "      <td>No</td>\n",
       "      <td>No</td>\n",
       "    </tr>\n",
       "    <tr>\n",
       "      <th>3</th>\n",
       "      <td>2020/11/14</td>\n",
       "      <td>2020/11/10</td>\n",
       "      <td>NaN</td>\n",
       "      <td>Laboratory-confirmed case</td>\n",
       "      <td>Male</td>\n",
       "      <td>10 - 19 Years</td>\n",
       "      <td>Black, Non-Hispanic</td>\n",
       "      <td>Missing</td>\n",
       "      <td>Missing</td>\n",
       "      <td>No</td>\n",
       "      <td>Missing</td>\n",
       "    </tr>\n",
       "    <tr>\n",
       "      <th>4</th>\n",
       "      <td>2020/11/13</td>\n",
       "      <td>2020/11/10</td>\n",
       "      <td>2020/11/10</td>\n",
       "      <td>Laboratory-confirmed case</td>\n",
       "      <td>Male</td>\n",
       "      <td>10 - 19 Years</td>\n",
       "      <td>Black, Non-Hispanic</td>\n",
       "      <td>No</td>\n",
       "      <td>No</td>\n",
       "      <td>No</td>\n",
       "      <td>Yes</td>\n",
       "    </tr>\n",
       "  </tbody>\n",
       "</table>\n",
       "</div>"
      ],
      "text/plain": [
       "  cdc_report_dt pos_spec_dt    onset_dt             current_status   sex  \\\n",
       "0    2020/11/10  2020/11/10         NaN  Laboratory-confirmed case  Male   \n",
       "1    2020/11/14  2020/11/10  2020/11/10  Laboratory-confirmed case  Male   \n",
       "2    2020/11/19  2020/11/10  2020/11/09  Laboratory-confirmed case  Male   \n",
       "3    2020/11/14  2020/11/10         NaN  Laboratory-confirmed case  Male   \n",
       "4    2020/11/13  2020/11/10  2020/11/10  Laboratory-confirmed case  Male   \n",
       "\n",
       "       age_group Race and ethnicity (combined)  hosp_yn   icu_yn death_yn  \\\n",
       "0  10 - 19 Years           Black, Non-Hispanic       No  Unknown       No   \n",
       "1  10 - 19 Years           Black, Non-Hispanic       No       No       No   \n",
       "2  10 - 19 Years           Black, Non-Hispanic       No       No       No   \n",
       "3  10 - 19 Years           Black, Non-Hispanic  Missing  Missing       No   \n",
       "4  10 - 19 Years           Black, Non-Hispanic       No       No       No   \n",
       "\n",
       "  medcond_yn  \n",
       "0         No  \n",
       "1         No  \n",
       "2         No  \n",
       "3    Missing  \n",
       "4        Yes  "
      ]
     },
     "execution_count": 3,
     "metadata": {},
     "output_type": "execute_result"
    }
   ],
   "source": [
    "df.head()"
   ]
  },
  {
   "cell_type": "code",
   "execution_count": 4,
   "metadata": {
    "execution": {
     "iopub.execute_input": "2021-01-22T11:04:15.275813Z",
     "iopub.status.busy": "2021-01-22T11:04:15.273965Z",
     "iopub.status.idle": "2021-01-22T11:04:15.404635Z",
     "shell.execute_reply": "2021-01-22T11:04:15.404023Z"
    },
    "papermill": {
     "duration": 9.285294,
     "end_time": "2021-01-22T11:04:15.404752",
     "exception": false,
     "start_time": "2021-01-22T11:04:06.119458",
     "status": "completed"
    },
    "tags": []
   },
   "outputs": [
    {
     "data": {
      "text/plain": [
       "cdc_report_dt                          0\n",
       "pos_spec_dt                      5534290\n",
       "onset_dt                         4009122\n",
       "current_status                         0\n",
       "sex                                   18\n",
       "age_group                             89\n",
       "Race and ethnicity (combined)          7\n",
       "hosp_yn                                0\n",
       "icu_yn                                 0\n",
       "death_yn                               0\n",
       "medcond_yn                             0\n",
       "dtype: int64"
      ]
     },
     "execution_count": 4,
     "metadata": {},
     "output_type": "execute_result"
    }
   ],
   "source": [
    "df.isnull().sum()\n"
   ]
  },
  {
   "cell_type": "code",
   "execution_count": 5,
   "metadata": {
    "execution": {
     "iopub.execute_input": "2021-01-22T11:04:15.465899Z",
     "iopub.status.busy": "2021-01-22T11:04:15.465146Z",
     "iopub.status.idle": "2021-01-22T11:05:36.716006Z",
     "shell.execute_reply": "2021-01-22T11:05:36.716606Z"
    },
    "papermill": {
     "duration": 81.284481,
     "end_time": "2021-01-22T11:05:36.716786",
     "exception": false,
     "start_time": "2021-01-22T11:04:15.432305",
     "status": "completed"
    },
    "tags": []
   },
   "outputs": [
    {
     "data": {
      "text/plain": [
       "<matplotlib.axes._subplots.AxesSubplot at 0x7f96ce65db50>"
      ]
     },
     "execution_count": 5,
     "metadata": {},
     "output_type": "execute_result"
    },
    {
     "data": {
      "image/png": "[encoded data removed]",
      "text/plain": [
       "<Figure size 1152x576 with 2 Axes>"
      ]
     },
     "metadata": {
      "needs_background": "light"
     },
     "output_type": "display_data"
    }
   ],
   "source": [
    "plt.figure(figsize=(16,8))\n",
    "sns.heatmap(df.isnull())"
   ]
  },
  {
   "cell_type": "code",
   "execution_count": 6,
   "metadata": {
    "execution": {
     "iopub.execute_input": "2021-01-22T11:05:36.875973Z",
     "iopub.status.busy": "2021-01-22T11:05:36.875194Z",
     "iopub.status.idle": "2021-01-22T11:05:45.143844Z",
     "shell.execute_reply": "2021-01-22T11:05:45.144397Z"
    },
    "papermill": {
     "duration": 8.398056,
     "end_time": "2021-01-22T11:05:45.144553",
     "exception": false,
     "start_time": "2021-01-22T11:05:36.746497",
     "status": "completed"
    },
    "tags": []
   },
   "outputs": [
    {
     "data": {
      "text/plain": [
       "<matplotlib.axes._subplots.AxesSubplot at 0x7f96caaaa2d0>"
      ]
     },
     "execution_count": 6,
     "metadata": {},
     "output_type": "execute_result"
    },
    {
     "data": {
      "image/png": "[encoded data removed]",
      "text/plain": [
       "<Figure size 432x288 with 1 Axes>"
      ]
     },
     "metadata": {
      "needs_background": "light"
     },
     "output_type": "display_data"
    }
   ],
   "source": [
    "plt.xticks(\n",
    "    rotation=90, \n",
    "    horizontalalignment='right',\n",
    "    fontweight='light',\n",
    "    fontsize='x-large'  \n",
    ")\n",
    "sns.countplot(x=df['death_yn'],data=df,orient='h')"
   ]
  },
  {
   "cell_type": "code",
   "execution_count": 7,
   "metadata": {
    "execution": {
     "iopub.execute_input": "2021-01-22T11:05:46.541873Z",
     "iopub.status.busy": "2021-01-22T11:05:46.541133Z",
     "iopub.status.idle": "2021-01-22T11:06:17.096272Z",
     "shell.execute_reply": "2021-01-22T11:06:17.096822Z"
    },
    "papermill": {
     "duration": 31.921289,
     "end_time": "2021-01-22T11:06:17.096964",
     "exception": false,
     "start_time": "2021-01-22T11:05:45.175675",
     "status": "completed"
    },
    "tags": []
   },
   "outputs": [
    {
     "data": {
      "text/html": [
       "<div>\n",
       "<style scoped>\n",
       "    .dataframe tbody tr th:only-of-type {\n",
       "        vertical-align: middle;\n",
       "    }\n",
       "\n",
       "    .dataframe tbody tr th {\n",
       "        vertical-align: top;\n",
       "    }\n",
       "\n",
       "    .dataframe thead th {\n",
       "        text-align: right;\n",
       "    }\n",
       "</style>\n",
       "<table border=\"1\" class=\"dataframe\">\n",
       "  <thead>\n",
       "    <tr style=\"text-align: right;\">\n",
       "      <th></th>\n",
       "      <th>cdc_report_dt</th>\n",
       "      <th>pos_spec_dt</th>\n",
       "      <th>onset_dt</th>\n",
       "      <th>current_status</th>\n",
       "      <th>sex</th>\n",
       "      <th>age_group</th>\n",
       "      <th>Race and ethnicity (combined)</th>\n",
       "      <th>hosp_yn</th>\n",
       "      <th>icu_yn</th>\n",
       "      <th>death_yn</th>\n",
       "      <th>medcond_yn</th>\n",
       "    </tr>\n",
       "  </thead>\n",
       "  <tbody>\n",
       "    <tr>\n",
       "      <th>count</th>\n",
       "      <td>8405079</td>\n",
       "      <td>2870789</td>\n",
       "      <td>4395957</td>\n",
       "      <td>8405079</td>\n",
       "      <td>8405061</td>\n",
       "      <td>8404990</td>\n",
       "      <td>8405072</td>\n",
       "      <td>8405079</td>\n",
       "      <td>8405079</td>\n",
       "      <td>8405079</td>\n",
       "      <td>8405079</td>\n",
       "    </tr>\n",
       "    <tr>\n",
       "      <th>unique</th>\n",
       "      <td>321</td>\n",
       "      <td>313</td>\n",
       "      <td>338</td>\n",
       "      <td>2</td>\n",
       "      <td>5</td>\n",
       "      <td>10</td>\n",
       "      <td>9</td>\n",
       "      <td>4</td>\n",
       "      <td>4</td>\n",
       "      <td>4</td>\n",
       "      <td>4</td>\n",
       "    </tr>\n",
       "    <tr>\n",
       "      <th>top</th>\n",
       "      <td>2020/06/24</td>\n",
       "      <td>2020/11/09</td>\n",
       "      <td>2020/11/02</td>\n",
       "      <td>Laboratory-confirmed case</td>\n",
       "      <td>Female</td>\n",
       "      <td>20 - 29 Years</td>\n",
       "      <td>Unknown</td>\n",
       "      <td>No</td>\n",
       "      <td>Missing</td>\n",
       "      <td>No</td>\n",
       "      <td>Missing</td>\n",
       "    </tr>\n",
       "    <tr>\n",
       "      <th>freq</th>\n",
       "      <td>155857</td>\n",
       "      <td>50595</td>\n",
       "      <td>49527</td>\n",
       "      <td>7910118</td>\n",
       "      <td>4340898</td>\n",
       "      <td>1635264</td>\n",
       "      <td>2781176</td>\n",
       "      <td>3502556</td>\n",
       "      <td>6178281</td>\n",
       "      <td>3690813</td>\n",
       "      <td>6063390</td>\n",
       "    </tr>\n",
       "  </tbody>\n",
       "</table>\n",
       "</div>"
      ],
      "text/plain": [
       "       cdc_report_dt pos_spec_dt    onset_dt             current_status  \\\n",
       "count        8405079     2870789     4395957                    8405079   \n",
       "unique           321         313         338                          2   \n",
       "top       2020/06/24  2020/11/09  2020/11/02  Laboratory-confirmed case   \n",
       "freq          155857       50595       49527                    7910118   \n",
       "\n",
       "            sex      age_group Race and ethnicity (combined)  hosp_yn  \\\n",
       "count   8405061        8404990                       8405072  8405079   \n",
       "unique        5             10                             9        4   \n",
       "top      Female  20 - 29 Years                       Unknown       No   \n",
       "freq    4340898        1635264                       2781176  3502556   \n",
       "\n",
       "         icu_yn death_yn medcond_yn  \n",
       "count   8405079  8405079    8405079  \n",
       "unique        4        4          4  \n",
       "top     Missing       No    Missing  \n",
       "freq    6178281  3690813    6063390  "
      ]
     },
     "execution_count": 7,
     "metadata": {},
     "output_type": "execute_result"
    }
   ],
   "source": [
    "df.describe()"
   ]
  },
  {
   "cell_type": "code",
   "execution_count": 8,
   "metadata": {
    "execution": {
     "iopub.execute_input": "2021-01-22T11:06:17.164399Z",
     "iopub.status.busy": "2021-01-22T11:06:17.163641Z",
     "iopub.status.idle": "2021-01-22T11:06:17.796643Z",
     "shell.execute_reply": "2021-01-22T11:06:17.796083Z"
    },
    "papermill": {
     "duration": 0.668258,
     "end_time": "2021-01-22T11:06:17.796768",
     "exception": false,
     "start_time": "2021-01-22T11:06:17.128510",
     "status": "completed"
    },
    "tags": []
   },
   "outputs": [
    {
     "data": {
      "text/plain": [
       "array(['No', 'Missing', 'Unknown', 'Yes'], dtype=object)"
      ]
     },
     "execution_count": 8,
     "metadata": {},
     "output_type": "execute_result"
    }
   ],
   "source": [
    "df['death_yn'].unique()"
   ]
  },
  {
   "cell_type": "code",
   "execution_count": 9,
   "metadata": {
    "execution": {
     "iopub.execute_input": "2021-01-22T11:06:19.050681Z",
     "iopub.status.busy": "2021-01-22T11:06:18.205819Z",
     "iopub.status.idle": "2021-01-22T11:06:20.852615Z",
     "shell.execute_reply": "2021-01-22T11:06:20.851698Z"
    },
    "papermill": {
     "duration": 3.023871,
     "end_time": "2021-01-22T11:06:20.852746",
     "exception": false,
     "start_time": "2021-01-22T11:06:17.828875",
     "status": "completed"
    },
    "tags": []
   },
   "outputs": [
    {
     "data": {
      "text/plain": [
       "sex      death_yn\n",
       "Female   Missing     1771658\n",
       "         No          1946931\n",
       "         Unknown      537566\n",
       "         Yes           84743\n",
       "Male     Missing     1651156\n",
       "         No          1724192\n",
       "         Unknown      496944\n",
       "         Yes           98299\n",
       "Missing  Missing       12765\n",
       "         No             6243\n",
       "         Unknown         360\n",
       "         Yes             152\n",
       "Other    Missing          63\n",
       "         No              140\n",
       "         Unknown           1\n",
       "         Yes               3\n",
       "Unknown  Missing       51272\n",
       "         No            13299\n",
       "         Unknown        8895\n",
       "         Yes             379\n",
       "Name: death_yn, dtype: int64"
      ]
     },
     "execution_count": 9,
     "metadata": {},
     "output_type": "execute_result"
    }
   ],
   "source": [
    "df.groupby(['sex','death_yn'])['death_yn'].count()"
   ]
  },
  {
   "cell_type": "code",
   "execution_count": 10,
   "metadata": {
    "execution": {
     "iopub.execute_input": "2021-01-22T11:06:23.111708Z",
     "iopub.status.busy": "2021-01-22T11:06:22.259045Z",
     "iopub.status.idle": "2021-01-22T11:06:32.478735Z",
     "shell.execute_reply": "2021-01-22T11:06:32.480463Z"
    },
    "papermill": {
     "duration": 11.59513,
     "end_time": "2021-01-22T11:06:32.481970",
     "exception": false,
     "start_time": "2021-01-22T11:06:20.886840",
     "status": "completed"
    },
    "tags": []
   },
   "outputs": [
    {
     "data": {
      "text/plain": [
       "<matplotlib.axes._subplots.AxesSubplot at 0x7f96ca97ed10>"
      ]
     },
     "execution_count": 10,
     "metadata": {},
     "output_type": "execute_result"
    },
    {
     "data": {
      "image/png": "[encoded data removed]",
      "text/plain": [
       "<Figure size 432x288 with 1 Axes>"
      ]
     },
     "metadata": {
      "needs_background": "light"
     },
     "output_type": "display_data"
    }
   ],
   "source": [
    "#f,ax=plt.subplots(1,2,figsize=(18,8))\n",
    "#df[['sex','death_yn']].groupby(['sex']).mean().plot.bar(ax=ax[0])\n",
    "#ax[0].set_title('Death vs Sex')\n",
    "sns.countplot('sex',hue='death_yn',data=df)\n"
   ]
  },
  {
   "cell_type": "markdown",
   "metadata": {
    "papermill": {
     "duration": 0.035417,
     "end_time": "2021-01-22T11:06:32.559098",
     "exception": false,
     "start_time": "2021-01-22T11:06:32.523681",
     "status": "completed"
    },
    "tags": []
   },
   "source": [
    "Higesh Death of sex column is **Male **"
   ]
  },
  {
   "cell_type": "code",
   "execution_count": 11,
   "metadata": {
    "execution": {
     "iopub.execute_input": "2021-01-22T11:06:32.634754Z",
     "iopub.status.busy": "2021-01-22T11:06:32.633599Z",
     "iopub.status.idle": "2021-01-22T11:06:33.674629Z",
     "shell.execute_reply": "2021-01-22T11:06:33.673294Z"
    },
    "papermill": {
     "duration": 1.080546,
     "end_time": "2021-01-22T11:06:33.674914",
     "exception": false,
     "start_time": "2021-01-22T11:06:32.594368",
     "status": "completed"
    },
    "tags": []
   },
   "outputs": [],
   "source": [
    "df['sex']=df['sex'].fillna('Male')"
   ]
  },
  {
   "cell_type": "markdown",
   "metadata": {
    "papermill": {
     "duration": 0.034695,
     "end_time": "2021-01-22T11:06:33.746714",
     "exception": false,
     "start_time": "2021-01-22T11:06:33.712019",
     "status": "completed"
    },
    "tags": []
   },
   "source": [
    "**Age Group**"
   ]
  },
  {
   "cell_type": "code",
   "execution_count": 12,
   "metadata": {
    "execution": {
     "iopub.execute_input": "2021-01-22T11:06:34.162083Z",
     "iopub.status.busy": "2021-01-22T11:06:33.821401Z",
     "iopub.status.idle": "2021-01-22T11:06:34.825688Z",
     "shell.execute_reply": "2021-01-22T11:06:34.826222Z"
    },
    "papermill": {
     "duration": 1.044812,
     "end_time": "2021-01-22T11:06:34.826395",
     "exception": false,
     "start_time": "2021-01-22T11:06:33.781583",
     "status": "completed"
    },
    "tags": []
   },
   "outputs": [
    {
     "data": {
      "text/plain": [
       "array(['10 - 19 Years', '20 - 29 Years', '30 - 39 Years', '40 - 49 Years',\n",
       "       '50 - 59 Years', '0 - 9 Years', '60 - 69 Years', '80+ Years',\n",
       "       '70 - 79 Years', nan, 'Unknown'], dtype=object)"
      ]
     },
     "execution_count": 12,
     "metadata": {},
     "output_type": "execute_result"
    }
   ],
   "source": [
    "df['age_group'].unique()"
   ]
  },
  {
   "cell_type": "code",
   "execution_count": 13,
   "metadata": {
    "execution": {
     "iopub.execute_input": "2021-01-22T11:06:34.907773Z",
     "iopub.status.busy": "2021-01-22T11:06:34.906547Z",
     "iopub.status.idle": "2021-01-22T11:06:48.514222Z",
     "shell.execute_reply": "2021-01-22T11:06:48.513684Z"
    },
    "papermill": {
     "duration": 13.647706,
     "end_time": "2021-01-22T11:06:48.514398",
     "exception": false,
     "start_time": "2021-01-22T11:06:34.866692",
     "status": "completed"
    },
    "tags": []
   },
   "outputs": [
    {
     "data": {
      "text/plain": [
       "<matplotlib.axes._subplots.AxesSubplot at 0x7f96c88af390>"
      ]
     },
     "execution_count": 13,
     "metadata": {},
     "output_type": "execute_result"
    },
    {
     "data": {
      "image/png": "[encoded data removed]",
      "text/plain": [
       "<Figure size 432x288 with 1 Axes>"
      ]
     },
     "metadata": {
      "needs_background": "light"
     },
     "output_type": "display_data"
    }
   ],
   "source": [
    "plt.xticks(\n",
    "    rotation=90, \n",
    "    horizontalalignment='right',\n",
    "    fontweight='light',\n",
    "    fontsize='x-large'  \n",
    ")\n",
    "sns.countplot(df['age_group'],hue='death_yn',data=df)"
   ]
  },
  {
   "cell_type": "code",
   "execution_count": 14,
   "metadata": {
    "execution": {
     "iopub.execute_input": "2021-01-22T11:06:48.599925Z",
     "iopub.status.busy": "2021-01-22T11:06:48.598845Z",
     "iopub.status.idle": "2021-01-22T11:06:52.328240Z",
     "shell.execute_reply": "2021-01-22T11:06:52.327552Z"
    },
    "papermill": {
     "duration": 3.775393,
     "end_time": "2021-01-22T11:06:52.328375",
     "exception": false,
     "start_time": "2021-01-22T11:06:48.552982",
     "status": "completed"
    },
    "tags": []
   },
   "outputs": [
    {
     "data": {
      "text/plain": [
       "<matplotlib.axes._subplots.AxesSubplot at 0x7f96c880d6d0>"
      ]
     },
     "execution_count": 14,
     "metadata": {},
     "output_type": "execute_result"
    },
    {
     "data": {
      "image/png": "[encoded data removed]",
      "text/plain": [
       "<Figure size 432x288 with 1 Axes>"
      ]
     },
     "metadata": {
      "needs_background": "light"
     },
     "output_type": "display_data"
    }
   ],
   "source": [
    "plt.xticks(rotation=90)\n",
    "sns.countplot('age_group',data=df)"
   ]
  },
  {
   "cell_type": "code",
   "execution_count": 15,
   "metadata": {
    "execution": {
     "iopub.execute_input": "2021-01-22T11:06:52.411562Z",
     "iopub.status.busy": "2021-01-22T11:06:52.410853Z",
     "iopub.status.idle": "2021-01-22T11:06:52.414582Z",
     "shell.execute_reply": "2021-01-22T11:06:52.413876Z"
    },
    "papermill": {
     "duration": 0.048931,
     "end_time": "2021-01-22T11:06:52.414699",
     "exception": false,
     "start_time": "2021-01-22T11:06:52.365768",
     "status": "completed"
    },
    "tags": []
   },
   "outputs": [],
   "source": [
    "#df['age_group'].astype()"
   ]
  },
  {
   "cell_type": "code",
   "execution_count": 16,
   "metadata": {
    "execution": {
     "iopub.execute_input": "2021-01-22T11:06:52.495188Z",
     "iopub.status.busy": "2021-01-22T11:06:52.494474Z",
     "iopub.status.idle": "2021-01-22T11:06:52.497370Z",
     "shell.execute_reply": "2021-01-22T11:06:52.497867Z"
    },
    "papermill": {
     "duration": 0.045488,
     "end_time": "2021-01-22T11:06:52.498019",
     "exception": false,
     "start_time": "2021-01-22T11:06:52.452531",
     "status": "completed"
    },
    "tags": []
   },
   "outputs": [],
   "source": [
    "#df=pd.read_csv(\"../input/covid19-case-surveillance-public-use-dataset/COVID-19_Case_Surveillance_Public_Use_Data.csv\")"
   ]
  },
  {
   "cell_type": "code",
   "execution_count": 17,
   "metadata": {
    "execution": {
     "iopub.execute_input": "2021-01-22T11:06:52.577291Z",
     "iopub.status.busy": "2021-01-22T11:06:52.576609Z",
     "iopub.status.idle": "2021-01-22T11:07:03.416460Z",
     "shell.execute_reply": "2021-01-22T11:07:03.414688Z"
    },
    "papermill": {
     "duration": 10.880652,
     "end_time": "2021-01-22T11:07:03.416616",
     "exception": false,
     "start_time": "2021-01-22T11:06:52.535964",
     "status": "completed"
    },
    "tags": []
   },
   "outputs": [],
   "source": [
    "df['age']=df['age_group'].replace(['10 - 19 Years','20 - 29 Years','30 - 39 Years','40 - 49 Years','50 - 59 Years','60 - 69 Years','70 - 79 Years','80+ Years','Unknown','0 - 9 Years'],[14,24,34,44,54,64,74,80,25,5])\n"
   ]
  },
  {
   "cell_type": "code",
   "execution_count": 18,
   "metadata": {
    "execution": {
     "iopub.execute_input": "2021-01-22T11:07:03.502607Z",
     "iopub.status.busy": "2021-01-22T11:07:03.501863Z",
     "iopub.status.idle": "2021-01-22T11:07:03.568123Z",
     "shell.execute_reply": "2021-01-22T11:07:03.567383Z"
    },
    "papermill": {
     "duration": 0.111554,
     "end_time": "2021-01-22T11:07:03.568247",
     "exception": false,
     "start_time": "2021-01-22T11:07:03.456693",
     "status": "completed"
    },
    "tags": []
   },
   "outputs": [],
   "source": [
    "df['age']=df['age'].fillna(34)"
   ]
  },
  {
   "cell_type": "code",
   "execution_count": 19,
   "metadata": {
    "execution": {
     "iopub.execute_input": "2021-01-22T11:07:03.656104Z",
     "iopub.status.busy": "2021-01-22T11:07:03.655097Z",
     "iopub.status.idle": "2021-01-22T11:07:03.660732Z",
     "shell.execute_reply": "2021-01-22T11:07:03.660099Z"
    },
    "papermill": {
     "duration": 0.052925,
     "end_time": "2021-01-22T11:07:03.660854",
     "exception": false,
     "start_time": "2021-01-22T11:07:03.607929",
     "status": "completed"
    },
    "tags": []
   },
   "outputs": [
    {
     "data": {
      "text/plain": [
       "0          14.0\n",
       "1          14.0\n",
       "2          14.0\n",
       "3          14.0\n",
       "4          14.0\n",
       "           ... \n",
       "8405074    34.0\n",
       "8405075    34.0\n",
       "8405076    34.0\n",
       "8405077    34.0\n",
       "8405078    34.0\n",
       "Name: age, Length: 8405079, dtype: float64"
      ]
     },
     "execution_count": 19,
     "metadata": {},
     "output_type": "execute_result"
    }
   ],
   "source": [
    "df['age']"
   ]
  },
  {
   "cell_type": "code",
   "execution_count": 20,
   "metadata": {
    "execution": {
     "iopub.execute_input": "2021-01-22T11:07:03.742163Z",
     "iopub.status.busy": "2021-01-22T11:07:03.741142Z",
     "iopub.status.idle": "2021-01-22T11:07:06.037425Z",
     "shell.execute_reply": "2021-01-22T11:07:06.036862Z"
    },
    "papermill": {
     "duration": 2.338145,
     "end_time": "2021-01-22T11:07:06.037543",
     "exception": false,
     "start_time": "2021-01-22T11:07:03.699398",
     "status": "completed"
    },
    "tags": []
   },
   "outputs": [
    {
     "data": {
      "text/plain": [
       "<matplotlib.axes._subplots.AxesSubplot at 0x7f96c87ab550>"
      ]
     },
     "execution_count": 20,
     "metadata": {},
     "output_type": "execute_result"
    },
    {
     "data": {
      "image/png": "[encoded data removed]",
      "text/plain": [
       "<Figure size 720x360 with 1 Axes>"
      ]
     },
     "metadata": {},
     "output_type": "display_data"
    }
   ],
   "source": [
    "plt.figure(figsize=(10,5))\n",
    "#plt.subplot(141)\n",
    "plt.title('icu_yn',fontsize = 15)\n",
    "\n",
    "#plt.title(figsize=(30,10))\n",
    "df['icu_yn'].value_counts().plot.pie(autopct='%1.1f')"
   ]
  },
  {
   "cell_type": "code",
   "execution_count": 21,
   "metadata": {
    "execution": {
     "iopub.execute_input": "2021-01-22T11:07:06.124425Z",
     "iopub.status.busy": "2021-01-22T11:07:06.123708Z",
     "iopub.status.idle": "2021-01-22T11:07:06.302358Z",
     "shell.execute_reply": "2021-01-22T11:07:06.302866Z"
    },
    "papermill": {
     "duration": 0.22533,
     "end_time": "2021-01-22T11:07:06.303020",
     "exception": false,
     "start_time": "2021-01-22T11:07:06.077690",
     "status": "completed"
    },
    "tags": []
   },
   "outputs": [
    {
     "data": {
      "text/plain": [
       "<matplotlib.axes._subplots.AxesSubplot at 0x7f96c867c8d0>"
      ]
     },
     "execution_count": 21,
     "metadata": {},
     "output_type": "execute_result"
    },
    {
     "data": {
      "image/png": "[encoded data removed]",
      "text/plain": [
       "<Figure size 720x360 with 1 Axes>"
      ]
     },
     "metadata": {},
     "output_type": "display_data"
    }
   ],
   "source": [
    "plt.figure(figsize=(10,5))\n",
    "plt.title('Age Groups',fontsize=15)\n",
    "df['age'].value_counts().plot.pie(autopct='%1.1f')"
   ]
  },
  {
   "cell_type": "code",
   "execution_count": 22,
   "metadata": {
    "execution": {
     "iopub.execute_input": "2021-01-22T11:07:06.391251Z",
     "iopub.status.busy": "2021-01-22T11:07:06.390612Z",
     "iopub.status.idle": "2021-01-22T11:07:08.661791Z",
     "shell.execute_reply": "2021-01-22T11:07:08.662371Z"
    },
    "papermill": {
     "duration": 2.317061,
     "end_time": "2021-01-22T11:07:08.662518",
     "exception": false,
     "start_time": "2021-01-22T11:07:06.345457",
     "status": "completed"
    },
    "tags": []
   },
   "outputs": [
    {
     "data": {
      "text/plain": [
       "<matplotlib.axes._subplots.AxesSubplot at 0x7f96c867c850>"
      ]
     },
     "execution_count": 22,
     "metadata": {},
     "output_type": "execute_result"
    },
    {
     "data": {
      "image/png": "[encoded data removed]",
      "text/plain": [
       "<Figure size 720x360 with 1 Axes>"
      ]
     },
     "metadata": {},
     "output_type": "display_data"
    }
   ],
   "source": [
    "plt.figure(figsize=(10,5))\n",
    "#plt.subplot(141)\n",
    "plt.title('medcond_yn ',fontsize = 15)\n",
    "df['medcond_yn'].value_counts().plot.pie(autopct=\"%1.1f%%\")"
   ]
  },
  {
   "cell_type": "code",
   "execution_count": 23,
   "metadata": {
    "execution": {
     "iopub.execute_input": "2021-01-22T11:07:09.663038Z",
     "iopub.status.busy": "2021-01-22T11:07:09.443599Z",
     "iopub.status.idle": "2021-01-22T11:07:09.666476Z",
     "shell.execute_reply": "2021-01-22T11:07:09.665621Z"
    },
    "papermill": {
     "duration": 0.95735,
     "end_time": "2021-01-22T11:07:09.666605",
     "exception": false,
     "start_time": "2021-01-22T11:07:08.709255",
     "status": "completed"
    },
    "tags": []
   },
   "outputs": [],
   "source": [
    "df=df.drop(['cdc_report_dt','pos_spec_dt','onset_dt','age_group','Race and ethnicity (combined)'],axis=1)"
   ]
  },
  {
   "cell_type": "code",
   "execution_count": 24,
   "metadata": {
    "execution": {
     "iopub.execute_input": "2021-01-22T11:07:09.758985Z",
     "iopub.status.busy": "2021-01-22T11:07:09.757939Z",
     "iopub.status.idle": "2021-01-22T11:07:09.774039Z",
     "shell.execute_reply": "2021-01-22T11:07:09.774551Z"
    },
    "papermill": {
     "duration": 0.064062,
     "end_time": "2021-01-22T11:07:09.774707",
     "exception": false,
     "start_time": "2021-01-22T11:07:09.710645",
     "status": "completed"
    },
    "tags": []
   },
   "outputs": [
    {
     "data": {
      "text/html": [
       "<div>\n",
       "<style scoped>\n",
       "    .dataframe tbody tr th:only-of-type {\n",
       "        vertical-align: middle;\n",
       "    }\n",
       "\n",
       "    .dataframe tbody tr th {\n",
       "        vertical-align: top;\n",
       "    }\n",
       "\n",
       "    .dataframe thead th {\n",
       "        text-align: right;\n",
       "    }\n",
       "</style>\n",
       "<table border=\"1\" class=\"dataframe\">\n",
       "  <thead>\n",
       "    <tr style=\"text-align: right;\">\n",
       "      <th></th>\n",
       "      <th>current_status</th>\n",
       "      <th>sex</th>\n",
       "      <th>hosp_yn</th>\n",
       "      <th>icu_yn</th>\n",
       "      <th>death_yn</th>\n",
       "      <th>medcond_yn</th>\n",
       "      <th>age</th>\n",
       "    </tr>\n",
       "  </thead>\n",
       "  <tbody>\n",
       "    <tr>\n",
       "      <th>0</th>\n",
       "      <td>Laboratory-confirmed case</td>\n",
       "      <td>Male</td>\n",
       "      <td>No</td>\n",
       "      <td>Unknown</td>\n",
       "      <td>No</td>\n",
       "      <td>No</td>\n",
       "      <td>14.0</td>\n",
       "    </tr>\n",
       "    <tr>\n",
       "      <th>1</th>\n",
       "      <td>Laboratory-confirmed case</td>\n",
       "      <td>Male</td>\n",
       "      <td>No</td>\n",
       "      <td>No</td>\n",
       "      <td>No</td>\n",
       "      <td>No</td>\n",
       "      <td>14.0</td>\n",
       "    </tr>\n",
       "    <tr>\n",
       "      <th>2</th>\n",
       "      <td>Laboratory-confirmed case</td>\n",
       "      <td>Male</td>\n",
       "      <td>No</td>\n",
       "      <td>No</td>\n",
       "      <td>No</td>\n",
       "      <td>No</td>\n",
       "      <td>14.0</td>\n",
       "    </tr>\n",
       "    <tr>\n",
       "      <th>3</th>\n",
       "      <td>Laboratory-confirmed case</td>\n",
       "      <td>Male</td>\n",
       "      <td>Missing</td>\n",
       "      <td>Missing</td>\n",
       "      <td>No</td>\n",
       "      <td>Missing</td>\n",
       "      <td>14.0</td>\n",
       "    </tr>\n",
       "    <tr>\n",
       "      <th>4</th>\n",
       "      <td>Laboratory-confirmed case</td>\n",
       "      <td>Male</td>\n",
       "      <td>No</td>\n",
       "      <td>No</td>\n",
       "      <td>No</td>\n",
       "      <td>Yes</td>\n",
       "      <td>14.0</td>\n",
       "    </tr>\n",
       "  </tbody>\n",
       "</table>\n",
       "</div>"
      ],
      "text/plain": [
       "              current_status   sex  hosp_yn   icu_yn death_yn medcond_yn   age\n",
       "0  Laboratory-confirmed case  Male       No  Unknown       No         No  14.0\n",
       "1  Laboratory-confirmed case  Male       No       No       No         No  14.0\n",
       "2  Laboratory-confirmed case  Male       No       No       No         No  14.0\n",
       "3  Laboratory-confirmed case  Male  Missing  Missing       No    Missing  14.0\n",
       "4  Laboratory-confirmed case  Male       No       No       No        Yes  14.0"
      ]
     },
     "execution_count": 24,
     "metadata": {},
     "output_type": "execute_result"
    }
   ],
   "source": [
    "df.head(5)"
   ]
  },
  {
   "cell_type": "code",
   "execution_count": 25,
   "metadata": {
    "execution": {
     "iopub.execute_input": "2021-01-22T11:07:09.871146Z",
     "iopub.status.busy": "2021-01-22T11:07:09.870032Z",
     "iopub.status.idle": "2021-01-22T11:07:28.864992Z",
     "shell.execute_reply": "2021-01-22T11:07:28.864332Z"
    },
    "papermill": {
     "duration": 19.044219,
     "end_time": "2021-01-22T11:07:28.865120",
     "exception": false,
     "start_time": "2021-01-22T11:07:09.820901",
     "status": "completed"
    },
    "tags": []
   },
   "outputs": [],
   "source": [
    "from sklearn.preprocessing import LabelEncoder \n",
    "encode=LabelEncoder()\n",
    "\n",
    "\n",
    "df['sex_n']=encode.fit_transform(df['sex'])\n",
    "df['current_status_n']=encode.fit_transform(df['current_status'])\n",
    "df['hosp_yn_n']=encode.fit_transform(df['hosp_yn'])\n",
    "df['icu_yn_n']=encode.fit_transform(df['icu_yn'])\n",
    "df['medcond_yn_n']=encode.fit_transform(df['medcond_yn'])\n",
    "df['deah_n']=encode.fit_transform(df['death_yn'])"
   ]
  },
  {
   "cell_type": "code",
   "execution_count": 26,
   "metadata": {
    "execution": {
     "iopub.execute_input": "2021-01-22T11:07:28.971428Z",
     "iopub.status.busy": "2021-01-22T11:07:28.970415Z",
     "iopub.status.idle": "2021-01-22T11:07:28.975959Z",
     "shell.execute_reply": "2021-01-22T11:07:28.976465Z"
    },
    "papermill": {
     "duration": 0.06735,
     "end_time": "2021-01-22T11:07:28.976626",
     "exception": false,
     "start_time": "2021-01-22T11:07:28.909276",
     "status": "completed"
    },
    "tags": []
   },
   "outputs": [
    {
     "data": {
      "text/html": [
       "<div>\n",
       "<style scoped>\n",
       "    .dataframe tbody tr th:only-of-type {\n",
       "        vertical-align: middle;\n",
       "    }\n",
       "\n",
       "    .dataframe tbody tr th {\n",
       "        vertical-align: top;\n",
       "    }\n",
       "\n",
       "    .dataframe thead th {\n",
       "        text-align: right;\n",
       "    }\n",
       "</style>\n",
       "<table border=\"1\" class=\"dataframe\">\n",
       "  <thead>\n",
       "    <tr style=\"text-align: right;\">\n",
       "      <th></th>\n",
       "      <th>current_status</th>\n",
       "      <th>sex</th>\n",
       "      <th>hosp_yn</th>\n",
       "      <th>icu_yn</th>\n",
       "      <th>death_yn</th>\n",
       "      <th>medcond_yn</th>\n",
       "      <th>age</th>\n",
       "      <th>sex_n</th>\n",
       "      <th>current_status_n</th>\n",
       "      <th>hosp_yn_n</th>\n",
       "      <th>icu_yn_n</th>\n",
       "      <th>medcond_yn_n</th>\n",
       "      <th>deah_n</th>\n",
       "    </tr>\n",
       "  </thead>\n",
       "  <tbody>\n",
       "    <tr>\n",
       "      <th>0</th>\n",
       "      <td>Laboratory-confirmed case</td>\n",
       "      <td>Male</td>\n",
       "      <td>No</td>\n",
       "      <td>Unknown</td>\n",
       "      <td>No</td>\n",
       "      <td>No</td>\n",
       "      <td>14.0</td>\n",
       "      <td>1</td>\n",
       "      <td>0</td>\n",
       "      <td>1</td>\n",
       "      <td>2</td>\n",
       "      <td>1</td>\n",
       "      <td>1</td>\n",
       "    </tr>\n",
       "    <tr>\n",
       "      <th>1</th>\n",
       "      <td>Laboratory-confirmed case</td>\n",
       "      <td>Male</td>\n",
       "      <td>No</td>\n",
       "      <td>No</td>\n",
       "      <td>No</td>\n",
       "      <td>No</td>\n",
       "      <td>14.0</td>\n",
       "      <td>1</td>\n",
       "      <td>0</td>\n",
       "      <td>1</td>\n",
       "      <td>1</td>\n",
       "      <td>1</td>\n",
       "      <td>1</td>\n",
       "    </tr>\n",
       "    <tr>\n",
       "      <th>2</th>\n",
       "      <td>Laboratory-confirmed case</td>\n",
       "      <td>Male</td>\n",
       "      <td>No</td>\n",
       "      <td>No</td>\n",
       "      <td>No</td>\n",
       "      <td>No</td>\n",
       "      <td>14.0</td>\n",
       "      <td>1</td>\n",
       "      <td>0</td>\n",
       "      <td>1</td>\n",
       "      <td>1</td>\n",
       "      <td>1</td>\n",
       "      <td>1</td>\n",
       "    </tr>\n",
       "    <tr>\n",
       "      <th>3</th>\n",
       "      <td>Laboratory-confirmed case</td>\n",
       "      <td>Male</td>\n",
       "      <td>Missing</td>\n",
       "      <td>Missing</td>\n",
       "      <td>No</td>\n",
       "      <td>Missing</td>\n",
       "      <td>14.0</td>\n",
       "      <td>1</td>\n",
       "      <td>0</td>\n",
       "      <td>0</td>\n",
       "      <td>0</td>\n",
       "      <td>0</td>\n",
       "      <td>1</td>\n",
       "    </tr>\n",
       "    <tr>\n",
       "      <th>4</th>\n",
       "      <td>Laboratory-confirmed case</td>\n",
       "      <td>Male</td>\n",
       "      <td>No</td>\n",
       "      <td>No</td>\n",
       "      <td>No</td>\n",
       "      <td>Yes</td>\n",
       "      <td>14.0</td>\n",
       "      <td>1</td>\n",
       "      <td>0</td>\n",
       "      <td>1</td>\n",
       "      <td>1</td>\n",
       "      <td>3</td>\n",
       "      <td>1</td>\n",
       "    </tr>\n",
       "  </tbody>\n",
       "</table>\n",
       "</div>"
      ],
      "text/plain": [
       "              current_status   sex  hosp_yn   icu_yn death_yn medcond_yn  \\\n",
       "0  Laboratory-confirmed case  Male       No  Unknown       No         No   \n",
       "1  Laboratory-confirmed case  Male       No       No       No         No   \n",
       "2  Laboratory-confirmed case  Male       No       No       No         No   \n",
       "3  Laboratory-confirmed case  Male  Missing  Missing       No    Missing   \n",
       "4  Laboratory-confirmed case  Male       No       No       No        Yes   \n",
       "\n",
       "    age  sex_n  current_status_n  hosp_yn_n  icu_yn_n  medcond_yn_n  deah_n  \n",
       "0  14.0      1                 0          1         2             1       1  \n",
       "1  14.0      1                 0          1         1             1       1  \n",
       "2  14.0      1                 0          1         1             1       1  \n",
       "3  14.0      1                 0          0         0             0       1  \n",
       "4  14.0      1                 0          1         1             3       1  "
      ]
     },
     "execution_count": 26,
     "metadata": {},
     "output_type": "execute_result"
    }
   ],
   "source": [
    "df.head()"
   ]
  },
  {
   "cell_type": "code",
   "execution_count": 27,
   "metadata": {
    "execution": {
     "iopub.execute_input": "2021-01-22T11:07:29.070394Z",
     "iopub.status.busy": "2021-01-22T11:07:29.069307Z",
     "iopub.status.idle": "2021-01-22T11:07:34.658072Z",
     "shell.execute_reply": "2021-01-22T11:07:34.657394Z"
    },
    "papermill": {
     "duration": 5.637038,
     "end_time": "2021-01-22T11:07:34.658197",
     "exception": false,
     "start_time": "2021-01-22T11:07:29.021159",
     "status": "completed"
    },
    "tags": []
   },
   "outputs": [
    {
     "data": {
      "text/plain": [
       "current_status      0\n",
       "sex                 0\n",
       "hosp_yn             0\n",
       "icu_yn              0\n",
       "death_yn            0\n",
       "medcond_yn          0\n",
       "age                 0\n",
       "sex_n               0\n",
       "current_status_n    0\n",
       "hosp_yn_n           0\n",
       "icu_yn_n            0\n",
       "medcond_yn_n        0\n",
       "deah_n              0\n",
       "dtype: int64"
      ]
     },
     "execution_count": 27,
     "metadata": {},
     "output_type": "execute_result"
    }
   ],
   "source": [
    "df.isnull().sum()"
   ]
  },
  {
   "cell_type": "code",
   "execution_count": 28,
   "metadata": {
    "execution": {
     "iopub.execute_input": "2021-01-22T11:07:34.756982Z",
     "iopub.status.busy": "2021-01-22T11:07:34.756243Z",
     "iopub.status.idle": "2021-01-22T11:07:34.761300Z",
     "shell.execute_reply": "2021-01-22T11:07:34.760650Z"
    },
    "papermill": {
     "duration": 0.057385,
     "end_time": "2021-01-22T11:07:34.761452",
     "exception": false,
     "start_time": "2021-01-22T11:07:34.704067",
     "status": "completed"
    },
    "tags": []
   },
   "outputs": [
    {
     "data": {
      "text/plain": [
       "(8405079,)"
      ]
     },
     "execution_count": 28,
     "metadata": {},
     "output_type": "execute_result"
    }
   ],
   "source": [
    "y=df['deah_n']\n",
    "y.shape"
   ]
  },
  {
   "cell_type": "code",
   "execution_count": 29,
   "metadata": {
    "execution": {
     "iopub.execute_input": "2021-01-22T11:07:34.859895Z",
     "iopub.status.busy": "2021-01-22T11:07:34.859151Z",
     "iopub.status.idle": "2021-01-22T11:07:35.382372Z",
     "shell.execute_reply": "2021-01-22T11:07:35.381757Z"
    },
    "papermill": {
     "duration": 0.57464,
     "end_time": "2021-01-22T11:07:35.382489",
     "exception": false,
     "start_time": "2021-01-22T11:07:34.807849",
     "status": "completed"
    },
    "tags": []
   },
   "outputs": [],
   "source": [
    "x=df.drop(['death_yn','current_status','sex','hosp_yn','icu_yn','medcond_yn','deah_n'],axis=1)\n"
   ]
  },
  {
   "cell_type": "code",
   "execution_count": 30,
   "metadata": {
    "execution": {
     "iopub.execute_input": "2021-01-22T11:07:35.480513Z",
     "iopub.status.busy": "2021-01-22T11:07:35.479601Z",
     "iopub.status.idle": "2021-01-22T11:07:35.484073Z",
     "shell.execute_reply": "2021-01-22T11:07:35.483582Z"
    },
    "papermill": {
     "duration": 0.056177,
     "end_time": "2021-01-22T11:07:35.484204",
     "exception": false,
     "start_time": "2021-01-22T11:07:35.428027",
     "status": "completed"
    },
    "tags": []
   },
   "outputs": [
    {
     "data": {
      "text/plain": [
       "(8405079, 6)"
      ]
     },
     "execution_count": 30,
     "metadata": {},
     "output_type": "execute_result"
    }
   ],
   "source": [
    "x.shape"
   ]
  },
  {
   "cell_type": "code",
   "execution_count": 31,
   "metadata": {
    "execution": {
     "iopub.execute_input": "2021-01-22T11:07:35.583984Z",
     "iopub.status.busy": "2021-01-22T11:07:35.582779Z",
     "iopub.status.idle": "2021-01-22T11:07:37.404941Z",
     "shell.execute_reply": "2021-01-22T11:07:37.404214Z"
    },
    "papermill": {
     "duration": 1.874889,
     "end_time": "2021-01-22T11:07:37.405071",
     "exception": false,
     "start_time": "2021-01-22T11:07:35.530182",
     "status": "completed"
    },
    "tags": []
   },
   "outputs": [],
   "source": [
    "from sklearn.model_selection import train_test_split\n",
    "\n",
    "X_train, X_test, y_train, y_test = train_test_split(x, y, test_size=0.2, random_state=42)"
   ]
  },
  {
   "cell_type": "markdown",
   "metadata": {
    "papermill": {
     "duration": 0.046543,
     "end_time": "2021-01-22T11:07:37.497727",
     "exception": false,
     "start_time": "2021-01-22T11:07:37.451184",
     "status": "completed"
    },
    "tags": []
   },
   "source": [
    "Decision Tree Algorithm"
   ]
  },
  {
   "cell_type": "code",
   "execution_count": 32,
   "metadata": {
    "execution": {
     "iopub.execute_input": "2021-01-22T11:07:37.602054Z",
     "iopub.status.busy": "2021-01-22T11:07:37.600483Z",
     "iopub.status.idle": "2021-01-22T11:07:51.974637Z",
     "shell.execute_reply": "2021-01-22T11:07:51.973870Z"
    },
    "papermill": {
     "duration": 14.429596,
     "end_time": "2021-01-22T11:07:51.974766",
     "exception": false,
     "start_time": "2021-01-22T11:07:37.545170",
     "status": "completed"
    },
    "tags": []
   },
   "outputs": [
    {
     "data": {
      "text/plain": [
       "78.33"
      ]
     },
     "execution_count": 32,
     "metadata": {},
     "output_type": "execute_result"
    }
   ],
   "source": [
    "decision_tree = DecisionTreeClassifier()\n",
    "decision_tree.fit(X_train, y_train)\n",
    "Y_pred = decision_tree.predict(X_test)\n",
    "acc_decision_tree = round(decision_tree.score(X_train, y_train) * 100, 2)\n",
    "acc_decision_tree"
   ]
  },
  {
   "cell_type": "markdown",
   "metadata": {
    "papermill": {
     "duration": 0.046941,
     "end_time": "2021-01-22T11:07:52.069164",
     "exception": false,
     "start_time": "2021-01-22T11:07:52.022223",
     "status": "completed"
    },
    "tags": []
   },
   "source": [
    "Logistic Regression Algorithm "
   ]
  },
  {
   "cell_type": "code",
   "execution_count": 33,
   "metadata": {
    "execution": {
     "iopub.execute_input": "2021-01-22T11:07:52.173019Z",
     "iopub.status.busy": "2021-01-22T11:07:52.172226Z",
     "iopub.status.idle": "2021-01-22T11:12:56.554750Z",
     "shell.execute_reply": "2021-01-22T11:12:56.553713Z"
    },
    "papermill": {
     "duration": 304.438712,
     "end_time": "2021-01-22T11:12:56.554996",
     "exception": false,
     "start_time": "2021-01-22T11:07:52.116284",
     "status": "completed"
    },
    "tags": []
   },
   "outputs": [
    {
     "name": "stderr",
     "output_type": "stream",
     "text": [
      "/opt/conda/lib/python3.7/site-packages/sklearn/linear_model/_logistic.py:764: ConvergenceWarning: lbfgs failed to converge (status=1):\n",
      "STOP: TOTAL NO. of ITERATIONS REACHED LIMIT.\n",
      "\n",
      "Increase the number of iterations (max_iter) or scale the data as shown in:\n",
      "    https://scikit-learn.org/stable/modules/preprocessing.html\n",
      "Please also refer to the documentation for alternative solver options:\n",
      "    https://scikit-learn.org/stable/modules/linear_model.html#logistic-regression\n",
      "  extra_warning_msg=_LOGISTIC_SOLVER_CONVERGENCE_MSG)\n"
     ]
    },
    {
     "name": "stdout",
     "output_type": "stream",
     "text": [
      "Accuracy score\n",
      "0.7314939298614648\n"
     ]
    }
   ],
   "source": [
    "logreg = LogisticRegression()\n",
    "logreg.fit(X_train, y_train)\n",
    "Y_pred = logreg.predict(X_test)\n",
    "print('Accuracy score')\n",
    "print(accuracy_score(y_test,Y_pred))"
   ]
  },
  {
   "cell_type": "markdown",
   "metadata": {
    "papermill": {
     "duration": 0.048573,
     "end_time": "2021-01-22T11:12:56.651384",
     "exception": false,
     "start_time": "2021-01-22T11:12:56.602811",
     "status": "completed"
    },
    "tags": []
   },
   "source": [
    "KNN Algorithm "
   ]
  },
  {
   "cell_type": "code",
   "execution_count": 34,
   "metadata": {
    "execution": {
     "iopub.execute_input": "2021-01-22T11:12:56.749808Z",
     "iopub.status.busy": "2021-01-22T11:12:56.748812Z",
     "iopub.status.idle": "2021-01-22T11:12:56.753915Z",
     "shell.execute_reply": "2021-01-22T11:12:56.753285Z"
    },
    "papermill": {
     "duration": 0.055453,
     "end_time": "2021-01-22T11:12:56.754033",
     "exception": false,
     "start_time": "2021-01-22T11:12:56.698580",
     "status": "completed"
    },
    "tags": []
   },
   "outputs": [],
   "source": [
    "#knn = KNeighborsClassifier(n_neighbors = 3)\n",
    "#knn.fit(X_train, y_train)\n",
    "#Y_pred_knn= knn.predict(X_test)\n",
    "#print('Accuracy score')\n",
    "#print(accuracy_score(y_test,y_pred_knn))"
   ]
  },
  {
   "cell_type": "markdown",
   "metadata": {
    "papermill": {
     "duration": 0.048913,
     "end_time": "2021-01-22T11:12:56.852565",
     "exception": false,
     "start_time": "2021-01-22T11:12:56.803652",
     "status": "completed"
    },
    "tags": []
   },
   "source": [
    "Random Forest Algorithm "
   ]
  },
  {
   "cell_type": "code",
   "execution_count": 35,
   "metadata": {
    "execution": {
     "iopub.execute_input": "2021-01-22T11:12:56.959247Z",
     "iopub.status.busy": "2021-01-22T11:12:56.957859Z",
     "iopub.status.idle": "2021-01-22T11:26:08.705734Z",
     "shell.execute_reply": "2021-01-22T11:26:08.706663Z"
    },
    "papermill": {
     "duration": 791.80666,
     "end_time": "2021-01-22T11:26:08.706927",
     "exception": false,
     "start_time": "2021-01-22T11:12:56.900267",
     "status": "completed"
    },
    "tags": []
   },
   "outputs": [
    {
     "name": "stdout",
     "output_type": "stream",
     "text": [
      "Accuracy score\n",
      "0.7827236623565749\n"
     ]
    }
   ],
   "source": [
    "random_forest = RandomForestClassifier(n_estimators=100)\n",
    "random_forest.fit(X_train, y_train)\n",
    "Y_pred_rdf= random_forest.predict(X_test)\n",
    "print('Accuracy score')\n",
    "print(accuracy_score(y_test,Y_pred_rdf))"
   ]
  },
  {
   "cell_type": "code",
   "execution_count": 36,
   "metadata": {
    "execution": {
     "iopub.execute_input": "2021-01-22T11:26:08.812709Z",
     "iopub.status.busy": "2021-01-22T11:26:08.811931Z",
     "iopub.status.idle": "2021-01-22T11:26:11.998359Z",
     "shell.execute_reply": "2021-01-22T11:26:11.997739Z"
    },
    "papermill": {
     "duration": 3.243649,
     "end_time": "2021-01-22T11:26:11.998490",
     "exception": false,
     "start_time": "2021-01-22T11:26:08.754841",
     "status": "completed"
    },
    "tags": []
   },
   "outputs": [],
   "source": [
    "submission=pd.DataFrame({'Death':Y_pred_rdf})\n",
    "submission.to_csv('submission.csv',index=False)\n",
    "                         "
   ]
  },
  {
   "cell_type": "code",
   "execution_count": null,
   "metadata": {
    "papermill": {
     "duration": 0.050719,
     "end_time": "2021-01-22T11:26:12.097968",
     "exception": false,
     "start_time": "2021-01-22T11:26:12.047249",
     "status": "completed"
    },
    "tags": []
   },
   "outputs": [],
   "source": []
  }
 ],
 "metadata": {
  "kernelspec": {
   "display_name": "Python 3",
   "language": "python",
   "name": "python3"
  },
  "language_info": {
   "codemirror_mode": {
    "name": "ipython",
    "version": 3
   },
   "file_extension": ".py",
   "mimetype": "text/x-python",
   "name": "python",
   "nbconvert_exporter": "python",
   "pygments_lexer": "ipython3",
   "version": "3.7.6"
  },
  "papermill": {
   "duration": 1359.678394,
   "end_time": "2021-01-22T11:26:13.243730",
   "environment_variables": {},
   "exception": null,
   "input_path": "__notebook__.ipynb",
   "output_path": "__notebook__.ipynb",
   "parameters": {},
   "start_time": "2021-01-22T11:03:33.565336",
   "version": "2.1.0"
  }
 },
 "nbformat": 4,
 "nbformat_minor": 4
}
